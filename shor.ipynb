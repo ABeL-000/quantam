{
 "cells": [
  {
   "cell_type": "code",
   "execution_count": 2,
   "metadata": {},
   "outputs": [
    {
     "name": "stdout",
     "output_type": "stream",
     "text": [
      "Collecting watermark\n",
      "  Downloading watermark-2.1.0-py2.py3-none-any.whl (5.7 kB)\n",
      "Requirement already satisfied: ipython in c:\\users\\seong\\anaconda3\\lib\\site-packages (from watermark) (7.16.1)\n",
      "Requirement already satisfied: setuptools>=18.5 in c:\\users\\seong\\anaconda3\\lib\\site-packages (from ipython->watermark) (49.2.0.post20200714)\n",
      "Requirement already satisfied: pickleshare in c:\\users\\seong\\anaconda3\\lib\\site-packages (from ipython->watermark) (0.7.5)\n",
      "Requirement already satisfied: prompt-toolkit!=3.0.0,!=3.0.1,<3.1.0,>=2.0.0 in c:\\users\\seong\\anaconda3\\lib\\site-packages (from ipython->watermark) (3.0.5)\n",
      "Requirement already satisfied: pygments in c:\\users\\seong\\anaconda3\\lib\\site-packages (from ipython->watermark) (2.6.1)\n",
      "Requirement already satisfied: backcall in c:\\users\\seong\\anaconda3\\lib\\site-packages (from ipython->watermark) (0.2.0)\n",
      "Requirement already satisfied: colorama; sys_platform == \"win32\" in c:\\users\\seong\\appdata\\roaming\\python\\python38\\site-packages (from ipython->watermark) (0.4.3)\n",
      "Requirement already satisfied: traitlets>=4.2 in c:\\users\\seong\\anaconda3\\lib\\site-packages (from ipython->watermark) (4.3.3)\n",
      "Requirement already satisfied: jedi>=0.10 in c:\\users\\seong\\anaconda3\\lib\\site-packages (from ipython->watermark) (0.17.1)\n",
      "Requirement already satisfied: decorator in c:\\users\\seong\\anaconda3\\lib\\site-packages (from ipython->watermark) (4.4.2)\n",
      "Requirement already satisfied: wcwidth in c:\\users\\seong\\anaconda3\\lib\\site-packages (from prompt-toolkit!=3.0.0,!=3.0.1,<3.1.0,>=2.0.0->ipython->watermark) (0.2.5)\n",
      "Requirement already satisfied: six in c:\\users\\seong\\appdata\\roaming\\python\\python38\\site-packages (from traitlets>=4.2->ipython->watermark) (1.14.0)\n",
      "Requirement already satisfied: ipython-genutils in c:\\users\\seong\\anaconda3\\lib\\site-packages (from traitlets>=4.2->ipython->watermark) (0.2.0)\n",
      "Requirement already satisfied: parso<0.8.0,>=0.7.0 in c:\\users\\seong\\anaconda3\\lib\\site-packages (from jedi>=0.10->ipython->watermark) (0.7.0)\n",
      "Installing collected packages: watermark\n",
      "Successfully installed watermark-2.1.0\n"
     ]
    }
   ],
   "source": [
    "!pip install watermark"
   ]
  },
  {
   "cell_type": "code",
   "execution_count": 14,
   "metadata": {},
   "outputs": [
    {
     "name": "stdout",
     "output_type": "stream",
     "text": [
      "The watermark extension is already loaded. To reload it, use:\n",
      "  %reload_ext watermark\n",
      "Python implementation: CPython\n",
      "Python version       : 3.8.3\n",
      "IPython version      : 7.16.1\n",
      "\n",
      "wget         : 3.2\n",
      "pandas       : 1.0.5\n",
      "numpy        : 1.18.5\n",
      "geopy        : 2.1.0\n",
      "altair       : 4.1.0\n",
      "vega         : 3.4.0\n",
      "vega_datasets: 0.9.0\n",
      "watermark    : 2.1.0\n",
      "\n",
      "Compiler    : MSC v.1916 64 bit (AMD64)\n",
      "OS          : Windows\n",
      "Release     : 10\n",
      "Machine     : AMD64\n",
      "Processor   : Intel64 Family 6 Model 142 Stepping 12, GenuineIntel\n",
      "CPU cores   : 8\n",
      "Architecture: 64bit\n",
      "\n",
      " \n",
      "Last updated: Thu Feb 18 2021 22:33:02대한민국 표준시\n",
      "\n"
     ]
    }
   ],
   "source": [
    "%load_ext watermark\n",
    "\n",
    "%watermark -v -m -p wget,pandas,numpy,geopy,altair,vega,vega_datasets,watermark\n",
    "\n",
    "print(\" \")\n",
    "%watermark -u -n -t -z"
   ]
  },
  {
   "cell_type": "code",
   "execution_count": 13,
   "metadata": {},
   "outputs": [
    {
     "name": "stdout",
     "output_type": "stream",
     "text": [
      "Collecting vega_datasets\n",
      "  Downloading vega_datasets-0.9.0-py3-none-any.whl (210 kB)\n",
      "Requirement already satisfied: pandas in c:\\users\\seong\\anaconda3\\lib\\site-packages (from vega_datasets) (1.0.5)\n",
      "Requirement already satisfied: python-dateutil>=2.6.1 in c:\\users\\seong\\anaconda3\\lib\\site-packages (from pandas->vega_datasets) (2.8.1)\n",
      "Requirement already satisfied: pytz>=2017.2 in c:\\users\\seong\\anaconda3\\lib\\site-packages (from pandas->vega_datasets) (2020.1)\n",
      "Requirement already satisfied: numpy>=1.13.3 in c:\\users\\seong\\anaconda3\\lib\\site-packages (from pandas->vega_datasets) (1.18.5)\n",
      "Requirement already satisfied: six>=1.5 in c:\\users\\seong\\appdata\\roaming\\python\\python38\\site-packages (from python-dateutil>=2.6.1->pandas->vega_datasets) (1.14.0)\n",
      "Installing collected packages: vega-datasets\n",
      "Successfully installed vega-datasets-0.9.0\n"
     ]
    }
   ],
   "source": [
    "!pip install vega_datasets"
   ]
  },
  {
   "cell_type": "code",
   "execution_count": null,
   "metadata": {},
   "outputs": [],
   "source": []
  }
 ],
 "metadata": {
  "kernelspec": {
   "display_name": "Python 3",
   "language": "python",
   "name": "python3"
  },
  "language_info": {
   "codemirror_mode": {
    "name": "ipython",
    "version": 3
   },
   "file_extension": ".py",
   "mimetype": "text/x-python",
   "name": "python",
   "nbconvert_exporter": "python",
   "pygments_lexer": "ipython3",
   "version": "3.8.3"
  }
 },
 "nbformat": 4,
 "nbformat_minor": 4
}
